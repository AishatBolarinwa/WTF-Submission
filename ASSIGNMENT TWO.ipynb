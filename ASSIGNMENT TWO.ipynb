{
 "cells": [
  {
   "cell_type": "markdown",
   "id": "3198dafb",
   "metadata": {},
   "source": [
    "# ASSIGNMENT : BOLARINWA AISHAT"
   ]
  },
  {
   "cell_type": "markdown",
   "id": "6b31465c",
   "metadata": {},
   "source": [
    "Research and write down 20 in built method on pandas and 20 on numpy with examples each."
   ]
  },
  {
   "cell_type": "markdown",
   "id": "3dc79adf",
   "metadata": {},
   "source": [
    "## Pandas Built in methods."
   ]
  },
  {
   "cell_type": "markdown",
   "id": "b9a8bc66",
   "metadata": {},
   "source": [
    "1) **read_csv** : it is used to read a dataset into a pandas dataframe.\n",
    "\n",
    "e.g df = pd.read_csv('my_data.csv')"
   ]
  },
  {
   "cell_type": "markdown",
   "id": "094f195b",
   "metadata": {},
   "source": [
    "2) **head** : It is used to display the first five rows of a pandas dataframe.\n",
    "\n",
    "e.g df.head()"
   ]
  },
  {
   "cell_type": "markdown",
   "id": "22e05128",
   "metadata": {},
   "source": [
    "3) **tail** : It is used to display the last five rows of a pandas dataframe.\n",
    "\n",
    "e.g df.tail()"
   ]
  },
  {
   "cell_type": "markdown",
   "id": "8eeaaefb",
   "metadata": {},
   "source": [
    "4) **shape** : It is used to determine the total number of rows and columns in a dataset.\n",
    "\n",
    "e.g df.shape"
   ]
  },
  {
   "cell_type": "markdown",
   "id": "db913f2d",
   "metadata": {},
   "source": [
    "5) **isna** : It is used to confirm the presence or absenceof null values in a dataset.\n",
    "\n",
    "e.g df.isna().any()"
   ]
  },
  {
   "cell_type": "markdown",
   "id": "e2ae6cef",
   "metadata": {},
   "source": [
    "6) **describe** : It gives a descriptive statisstical summary of the dataset such as count, minimum and maximum values, standard deviation, mean etc.\n",
    "\n",
    "e.g df.describe()"
   ]
  },
  {
   "cell_type": "markdown",
   "id": "a298def2",
   "metadata": {},
   "source": [
    "7) **nunique** : It gives the total number of distinct values in each columns in a dataset.\n",
    "\n",
    "e.g df.nunique()"
   ]
  },
  {
   "cell_type": "markdown",
   "id": "f962b918",
   "metadata": {},
   "source": [
    "8) **columns** : It gives the name of all variables in a dataframe.\n",
    "\n",
    "e.g df.columns"
   ]
  },
  {
   "cell_type": "markdown",
   "id": "1d6a6cbd",
   "metadata": {},
   "source": [
    "9) **memory_usage** : It is used to get the memory usage of each column (in bytes) in a Pandas DataFrame.\n",
    "\n",
    "e.g df.memory_usage(deep=True)"
   ]
  },
  {
   "cell_type": "markdown",
   "id": "05018783",
   "metadata": {},
   "source": [
    "10) **astype** : It is used to change the datatype of a variable in a pandas dataframe.\n",
    "\n",
    "e.g df['column_1] = df.astype('float')"
   ]
  },
  {
   "cell_type": "markdown",
   "id": "071b3fff",
   "metadata": {},
   "source": [
    "11) **loc** : It helps to access a group of rows and columns in a dataset.\n",
    "\n",
    "e.g df.loc[0:4, ['column_2', 'column_5', 'column_6']]"
   ]
  },
  {
   "cell_type": "markdown",
   "id": "b4e0438c",
   "metadata": {},
   "source": [
    "12) **todatetime** : It converts a variable in a pandas dataframe to date format.\n",
    "\n",
    "df['DOB'] = pd.to_datetime(df['DOB'])"
   ]
  },
  {
   "cell_type": "markdown",
   "id": "cdd7827f",
   "metadata": {},
   "source": [
    "13) **drop_duplicates** : It removes duplicates from a dataset.\n",
    "\n",
    "e.g df = df.drop_duplicates()"
   ]
  },
  {
   "cell_type": "markdown",
   "id": "5b173846",
   "metadata": {},
   "source": [
    "14) **groupby** : It is used to group a Pandas DataFrame by one or more columns.\n",
    "\n",
    "e.g df.groupby(by='column_1')"
   ]
  },
  {
   "cell_type": "markdown",
   "id": "f5b83864",
   "metadata": {},
   "source": [
    "15) **merge** : It is used to merge two Pandas dataframe on a common column.\n",
    "\n",
    "e.g df_1.merge(df_2, on='column_name', how='left')"
   ]
  },
  {
   "cell_type": "markdown",
   "id": "cac99942",
   "metadata": {},
   "source": [
    "16) **fillna** : It is used to fill missign values in a dataset with specified values.\n",
    "\n",
    "e.g df['column_1'].fillna(0, inplace=True)"
   ]
  },
  {
   "cell_type": "markdown",
   "id": "6b655525",
   "metadata": {},
   "source": [
    "17) **dtypes** : It is used to determine the datatype of a variable in a dataset.\n",
    "\n",
    "e.g df['column_1'].dtypes"
   ]
  },
  {
   "cell_type": "markdown",
   "id": "ba6626f8",
   "metadata": {},
   "source": [
    "18) **rename** : It is used to rename columns in a dataset.\n",
    "\n",
    "e.g df.rename(columns = {'column_1' : 'column one', 'column_2' : 'column two'})"
   ]
  },
  {
   "cell_type": "markdown",
   "id": "127122ed",
   "metadata": {},
   "source": [
    "19) **sample** : It is used to select rows at random from a pandas dataframe, especially used when the dataset is large.\n",
    "\n",
    "e.g df.sample()"
   ]
  },
  {
   "cell_type": "markdown",
   "id": "3d664ff5",
   "metadata": {},
   "source": [
    "20) **nlargest** : It gives the highest values in a specified column.\n",
    "\n",
    "e.g df.nlargest()"
   ]
  },
  {
   "cell_type": "markdown",
   "id": "6c402061",
   "metadata": {},
   "source": [
    "## Numpy Built In methods."
   ]
  },
  {
   "cell_type": "markdown",
   "id": "12c8b2c8",
   "metadata": {},
   "source": [
    "1) **array** : It is used to create a one dimensonal array of numbers.\n",
    "\n",
    "e.g np.array([2,4,6,8])"
   ]
  },
  {
   "cell_type": "markdown",
   "id": "bbde95eb",
   "metadata": {},
   "source": [
    "2) **arrange** : It returns an array that starts with the starting index and ends at one index less than the end index.\n",
    "\n",
    "e.g nums = np.arange(2, 7)"
   ]
  },
  {
   "cell_type": "markdown",
   "id": "cd9b91d6",
   "metadata": {},
   "source": [
    "3) **zeros** : It is used to create an array of all zeros.\n",
    "\n",
    "e.g nums = np.zeros(6)"
   ]
  },
  {
   "cell_type": "markdown",
   "id": "6407a032",
   "metadata": {},
   "source": [
    "4) **ones** : It is used to create an array of all ones.\n",
    "\n",
    "e.g nums = np.ones(6)"
   ]
  },
  {
   "cell_type": "markdown",
   "id": "6b50e099",
   "metadata": {},
   "source": [
    "5) **linspace** : It creates an array with a start index, end index, and the number of linearly-spaced numbers between a specified range.\n",
    "\n",
    "e.g nums = np.linspace(1, 10, 20)"
   ]
  },
  {
   "cell_type": "markdown",
   "id": "b6d7ef91",
   "metadata": {},
   "source": [
    "6) **eye** : It is used to create an identity matrix, which can be very useful to perform a variety of operations in linear algebra.\n",
    "\n",
    "e.g nums = np.eye(4)  \n",
    "creates a 4 x 4 matrix."
   ]
  },
  {
   "cell_type": "markdown",
   "id": "c78b8bce",
   "metadata": {},
   "source": [
    "7) **random** : It is used to create arrays with random numbers.\n",
    "\n",
    "e.g nums = np.random.rand(2, 3)"
   ]
  },
  {
   "cell_type": "markdown",
   "id": "1ee7f935",
   "metadata": {},
   "source": [
    "8) **argmax** : It is used to get the index of the maximum value in a numpy array.\n",
    "\n",
    "e.g nums.argmax()"
   ]
  },
  {
   "cell_type": "markdown",
   "id": "e4289e1b",
   "metadata": {},
   "source": [
    "9) **argmin** : It is used to get the index of the minimum value in a numpy array.\n",
    "\n",
    "e.g nums.argmin()"
   ]
  },
  {
   "cell_type": "markdown",
   "id": "b062ba42",
   "metadata": {},
   "source": [
    "10) **reshape** : It is used to change the dimension of a numpy array.\n",
    "\n",
    "e.g nums.reshape(2, 2)"
   ]
  },
  {
   "cell_type": "markdown",
   "id": "0eec14a9",
   "metadata": {},
   "source": [
    "11) **log** : It returns an array with the log of all elements in the input array.\n",
    "\n",
    "e.g num1 = np.log(nums)"
   ]
  },
  {
   "cell_type": "markdown",
   "id": "90a1103d",
   "metadata": {},
   "source": [
    "12) **exp** : It returns an array with exponents of all elements in the input array.\n",
    "\n",
    "e.g num2 = np.exp(nums)"
   ]
  },
  {
   "cell_type": "markdown",
   "id": "5bc81e4f",
   "metadata": {},
   "source": [
    "13) **repeat** : It repeats the elements of an array, a certain number of times.\n",
    "\n",
    "e.g np.repeat(3, 5)  \n",
    "gives array([3, 3, 3, 3, 3])"
   ]
  },
  {
   "cell_type": "markdown",
   "id": "450a9023",
   "metadata": {},
   "source": [
    "14) **squeeze** : It removes single-dimensional entries from the shape of an array.\n",
    "\n",
    "e.g arr = np.array([[[1],[1]]])\n",
    "\n",
    "arr.shape  \n",
    "#(1, 2, 1)\n",
    "\n",
    "arr0 = np.squeeze(arr, axis=0)  \n",
    "arr0  \n",
    "#array([[1],[1]]) \n",
    "\n",
    "arr0.shape \n",
    "#(2, 1)"
   ]
  },
  {
   "cell_type": "markdown",
   "id": "3098d040",
   "metadata": {},
   "source": [
    "15) **sin** : It returns an array with the sine of all the elements in the input array.\n",
    "\n",
    "e.g num3 = np.sin(nums)"
   ]
  },
  {
   "cell_type": "markdown",
   "id": "f988594c",
   "metadata": {},
   "source": [
    "16) **digitize** : It returns the indices of the bins to which each value in input array belongs.\n",
    "\n",
    "e.g x =np.array([2,4,6])  \n",
    "y = np.array([1,2,3])  \n",
    "np.digitize(x, y)"
   ]
  },
  {
   "cell_type": "markdown",
   "id": "96a29f09",
   "metadata": {},
   "source": [
    "17) **inv** : It is used to find the inverse of a matrix.\n",
    "\n",
    "e.g x = np.array(([1,2], [3,4]))  \n",
    "y = np.linalg.inv(x)"
   ]
  },
  {
   "cell_type": "markdown",
   "id": "9bc18844",
   "metadata": {},
   "source": [
    "18) **cos** : It returns an array with the cosine of all elements in the input array.\n",
    "\n",
    "e.g num4 = np.cos(nums)"
   ]
  },
  {
   "cell_type": "markdown",
   "id": "fc94bd77",
   "metadata": {},
   "source": [
    "19) **tan** : It returns an array with the tangent of aall elements in the input array.\n",
    "\n",
    "e.g num5 = np.tan(nums)"
   ]
  },
  {
   "cell_type": "markdown",
   "id": "784bd811",
   "metadata": {},
   "source": [
    "20) **det** : It is used to find the determinant of a matrix.\n",
    "\n",
    "e.g x = np.array(([1,2,3], [4,5,6], [7,8,9]))  \n",
    "y = np.linalg.det(x)"
   ]
  }
 ],
 "metadata": {
  "kernelspec": {
   "display_name": "Python 3 (ipykernel)",
   "language": "python",
   "name": "python3"
  },
  "language_info": {
   "codemirror_mode": {
    "name": "ipython",
    "version": 3
   },
   "file_extension": ".py",
   "mimetype": "text/x-python",
   "name": "python",
   "nbconvert_exporter": "python",
   "pygments_lexer": "ipython3",
   "version": "3.9.12"
  }
 },
 "nbformat": 4,
 "nbformat_minor": 5
}
